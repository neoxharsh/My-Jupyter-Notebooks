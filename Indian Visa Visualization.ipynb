{
 "cells": [
  {
   "cell_type": "markdown",
   "metadata": {},
   "source": [
    "# Indian Visa Visualization"
   ]
  },
  {
   "cell_type": "markdown",
   "metadata": {},
   "source": [
    "This is a jupyter notebook that shows how to visualize the number of different type of visa issued by the Indian Government using folium\n",
    "\n",
    "The original data is obtained from \n",
    "\"https://data.gov.in/resources/issuance-visa-various-foreign-nationals-against-various-categories-visas-2014/api\" \n",
    "\n",
    "The data is used for non commercial purpose only. The original data has been modified to include the geocoded longitude and latitude of the provided location using Google Places API. "
   ]
  },
  {
   "cell_type": "code",
   "execution_count": 29,
   "metadata": {},
   "outputs": [
    {
     "data": {
      "application/vnd.jupyter.widget-view+json": {
       "model_id": "cc266db3ac10435eb7e103d236669432",
       "version_major": 2,
       "version_minor": 0
      },
      "text/plain": [
       "interactive(children=(Dropdown(description='visaType', options={'EMPLOYMENT VISA ': ' EMPLOYMENT_VISA_IN_NO', …"
      ]
     },
     "metadata": {},
     "output_type": "display_data"
    }
   ],
   "source": [
    "# inline call to get the maps as output within the cell\n",
    "%matplotlib inline\n",
    "\n",
    "# imports for widgets, pandas and folium for map and csv parsing\n",
    "from ipywidgets import interact_manual\n",
    "import pandas as pd\n",
    "import folium\n",
    "\n",
    "# Map method to map the number of visa to size of points on the map\n",
    "def map(x,in_min,in_max,out_min,out_max):\n",
    "    return (x - in_min) * (out_max - out_min) / (in_max - in_min) + out_min\n",
    "\n",
    "# Read the csv file that contains the visa information\n",
    "dataFile = pd.read_csv('data.csv')\n",
    "\n",
    "# Create a dictonary of object that is used to create a list of visa for drop down menu and map it to the column name\n",
    "visaTypeList={dataFile.columns[5:][x].strip().replace('IN_NO','').replace('_',' '):dataFile.columns[5:][x] for x in range(0,len(dataFile.columns[5:]))}\n",
    "\n",
    "# Method that is invoked when the View Map button is pressed. It takes the type of visa to visulaize on the map.\n",
    "def viewMap(visaType):\n",
    "    # Create a foilim \"Dark Matter map\"\n",
    "    folium_map = folium.Map(zoom_start=2.5,tiles=\"CartoDB dark_matter\")\n",
    "    # Find the max value of visa issued for a given type\n",
    "    maxVisa = dataFile[visaType].idxmax()\n",
    "    # Iterate through all the element in the table for the selected visa type and find the size of point to draw based\n",
    "    # on the number of visa issued.\n",
    "    # Only draw point if the number of visa issued is more than 0.\n",
    "    for index in range(0,len(dataFile)):\n",
    "        pointSize = map(dataFile[visaType][index],0,maxVisa,0,200)\n",
    "        if pointSize>0:\n",
    "            popup = dataFile.iloc[index]['MISSION'] + \" (\"+ str(dataFile[visaType][index]) +\")\"\n",
    "            folium.CircleMarker(location=[dataFile['lat'][index],dataFile['lon'][index]],fill=False,radius=pointSize,popup=popup).add_to(folium_map)\n",
    "    return folium_map\n",
    "\n",
    "# Create an interactice drop down widget with a custom button name\n",
    "interact_calc=interact_manual.options(manual_name=\"View Map\")\n",
    "interact_manual(viewMap,visaType=visaTypeList);\n"
   ]
  },
  {
   "cell_type": "code",
   "execution_count": null,
   "metadata": {},
   "outputs": [],
   "source": []
  }
 ],
 "metadata": {
  "kernelspec": {
   "display_name": "Python 3",
   "language": "python",
   "name": "python3"
  },
  "language_info": {
   "codemirror_mode": {
    "name": "ipython",
    "version": 3
   },
   "file_extension": ".py",
   "mimetype": "text/x-python",
   "name": "python",
   "nbconvert_exporter": "python",
   "pygments_lexer": "ipython3",
   "version": "3.7.1"
  }
 },
 "nbformat": 4,
 "nbformat_minor": 2
}
